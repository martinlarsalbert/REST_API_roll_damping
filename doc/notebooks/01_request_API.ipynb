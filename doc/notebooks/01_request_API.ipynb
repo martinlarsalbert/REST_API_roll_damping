{
 "cells": [
  {
   "cell_type": "markdown",
   "metadata": {
    "collapsed": true,
    "pycharm": {
     "name": "#%% md\n"
    }
   },
   "source": [
    "# Request Roll damping API"
   ]
  },
  {
   "cell_type": "code",
   "execution_count": 1,
   "outputs": [
    {
     "name": "stderr",
     "output_type": "stream",
     "text": [
      "UsageError: Line magic function `%matplotlib.notebook` not found.\n"
     ]
    }
   ],
   "source": [
    "%matplotlib.notebook"
   ],
   "metadata": {
    "collapsed": false,
    "pycharm": {
     "name": "#%%\n"
    }
   }
  },
  {
   "cell_type": "code",
   "execution_count": 19,
   "outputs": [],
   "source": [
    "import requests\n",
    "import numpy as np\n",
    "import pandas as pd\n",
    "import matplotlib.pyplot as plt\n",
    "import json"
   ],
   "metadata": {
    "collapsed": false,
    "pycharm": {
     "name": "#%%\n"
    }
   }
  },
  {
   "cell_type": "markdown",
   "source": [
    "## Simple request"
   ],
   "metadata": {
    "collapsed": false,
    "pycharm": {
     "name": "#%% md\n"
    }
   }
  },
  {
   "cell_type": "code",
   "execution_count": 10,
   "outputs": [],
   "source": [
    "url = r'http://marale.pythonanywhere.com/api/roll_damping'\n",
    "request = url + r'?lpp=100&beam=10&T=2&BK_L=0&BK_B=0&OG=0&omega0_hat=0.1&C_b=0.7&A_0=0.97&V=10&phi_a=0.1'\n",
    "\n",
    "r = requests.get(request)\n",
    "assert r.status_code is 200\n",
    "result = r.json()"
   ],
   "metadata": {
    "collapsed": false,
    "pycharm": {
     "name": "#%%\n"
    }
   }
  },
  {
   "cell_type": "code",
   "execution_count": 11,
   "outputs": [
    {
     "data": {
      "text/plain": "{'A_0': 0.97,\n 'BK_B': 0.0,\n 'BK_L': 0.0,\n 'B_e_hat': 0.001010855968957833,\n 'C_b': 0.7,\n 'OG': 0.0,\n 'T': 0.02,\n 'V': 1.0,\n 'beam': 0.1,\n 'method': '/home/marale/REST_API_roll_damping/static/models/polynom_complex.sym',\n 'omega0_hat': 0.1,\n 'phi_a': 0.1}"
     },
     "execution_count": 11,
     "metadata": {},
     "output_type": "execute_result"
    }
   ],
   "source": [
    "result"
   ],
   "metadata": {
    "collapsed": false,
    "pycharm": {
     "name": "#%%\n"
    }
   }
  },
  {
   "cell_type": "code",
   "execution_count": 12,
   "outputs": [
    {
     "data": {
      "text/plain": "0.001010855968957833"
     },
     "execution_count": 12,
     "metadata": {},
     "output_type": "execute_result"
    }
   ],
   "source": [
    "result['B_e_hat']"
   ],
   "metadata": {
    "collapsed": false,
    "pycharm": {
     "name": "#%%\n"
    }
   }
  },
  {
   "cell_type": "code",
   "execution_count": 13,
   "outputs": [],
   "source": [
    "def get_rolldamping(row):\n",
    "\n",
    "    r = requests.get(url, params=dict(row))\n",
    "\n",
    "    assert r.status_code is 200\n",
    "    result = r.json()\n",
    "    result_ = pd.Series(result, name=row.name)\n",
    "    return result_"
   ],
   "metadata": {
    "collapsed": false,
    "pycharm": {
     "name": "#%%\n"
    }
   }
  },
  {
   "cell_type": "code",
   "execution_count": 48,
   "outputs": [
    {
     "data": {
      "text/plain": "    A_0  BK_B  BK_L   B_e_hat  C_b   OG     T         V  beam  \\\n0  0.96   0.0   0.0  0.005706  0.8  0.0  0.02  0.000000   0.1   \n1  0.96   0.0   0.0  0.005286  0.8  0.0  0.02  0.111111   0.1   \n2  0.96   0.0   0.0  0.004964  0.8  0.0  0.02  0.222222   0.1   \n3  0.96   0.0   0.0  0.004740  0.8  0.0  0.02  0.333333   0.1   \n4  0.96   0.0   0.0  0.004615  0.8  0.0  0.02  0.444444   0.1   \n\n                                              method  omega0_hat    phi_a  \n0  /home/marale/REST_API_roll_damping/static/mode...         0.5  0.05236  \n1  /home/marale/REST_API_roll_damping/static/mode...         0.5  0.05236  \n2  /home/marale/REST_API_roll_damping/static/mode...         0.5  0.05236  \n3  /home/marale/REST_API_roll_damping/static/mode...         0.5  0.05236  \n4  /home/marale/REST_API_roll_damping/static/mode...         0.5  0.05236  ",
      "text/html": "<div>\n<style scoped>\n    .dataframe tbody tr th:only-of-type {\n        vertical-align: middle;\n    }\n\n    .dataframe tbody tr th {\n        vertical-align: top;\n    }\n\n    .dataframe thead th {\n        text-align: right;\n    }\n</style>\n<table border=\"1\" class=\"dataframe\">\n  <thead>\n    <tr style=\"text-align: right;\">\n      <th></th>\n      <th>A_0</th>\n      <th>BK_B</th>\n      <th>BK_L</th>\n      <th>B_e_hat</th>\n      <th>C_b</th>\n      <th>OG</th>\n      <th>T</th>\n      <th>V</th>\n      <th>beam</th>\n      <th>method</th>\n      <th>omega0_hat</th>\n      <th>phi_a</th>\n    </tr>\n  </thead>\n  <tbody>\n    <tr>\n      <th>0</th>\n      <td>0.96</td>\n      <td>0.0</td>\n      <td>0.0</td>\n      <td>0.005706</td>\n      <td>0.8</td>\n      <td>0.0</td>\n      <td>0.02</td>\n      <td>0.000000</td>\n      <td>0.1</td>\n      <td>/home/marale/REST_API_roll_damping/static/mode...</td>\n      <td>0.5</td>\n      <td>0.05236</td>\n    </tr>\n    <tr>\n      <th>1</th>\n      <td>0.96</td>\n      <td>0.0</td>\n      <td>0.0</td>\n      <td>0.005286</td>\n      <td>0.8</td>\n      <td>0.0</td>\n      <td>0.02</td>\n      <td>0.111111</td>\n      <td>0.1</td>\n      <td>/home/marale/REST_API_roll_damping/static/mode...</td>\n      <td>0.5</td>\n      <td>0.05236</td>\n    </tr>\n    <tr>\n      <th>2</th>\n      <td>0.96</td>\n      <td>0.0</td>\n      <td>0.0</td>\n      <td>0.004964</td>\n      <td>0.8</td>\n      <td>0.0</td>\n      <td>0.02</td>\n      <td>0.222222</td>\n      <td>0.1</td>\n      <td>/home/marale/REST_API_roll_damping/static/mode...</td>\n      <td>0.5</td>\n      <td>0.05236</td>\n    </tr>\n    <tr>\n      <th>3</th>\n      <td>0.96</td>\n      <td>0.0</td>\n      <td>0.0</td>\n      <td>0.004740</td>\n      <td>0.8</td>\n      <td>0.0</td>\n      <td>0.02</td>\n      <td>0.333333</td>\n      <td>0.1</td>\n      <td>/home/marale/REST_API_roll_damping/static/mode...</td>\n      <td>0.5</td>\n      <td>0.05236</td>\n    </tr>\n    <tr>\n      <th>4</th>\n      <td>0.96</td>\n      <td>0.0</td>\n      <td>0.0</td>\n      <td>0.004615</td>\n      <td>0.8</td>\n      <td>0.0</td>\n      <td>0.02</td>\n      <td>0.444444</td>\n      <td>0.1</td>\n      <td>/home/marale/REST_API_roll_damping/static/mode...</td>\n      <td>0.5</td>\n      <td>0.05236</td>\n    </tr>\n  </tbody>\n</table>\n</div>"
     },
     "execution_count": 48,
     "metadata": {},
     "output_type": "execute_result"
    }
   ],
   "source": [
    "N=10\n",
    "index = np.arange(0,N)\n",
    "inputs = pd.DataFrame(index=index)\n",
    "\n",
    "inputs['lpp']=100\n",
    "inputs['beam']=10\n",
    "inputs['T']=2\n",
    "inputs['BK_L']=0\n",
    "inputs['BK_B']=0\n",
    "inputs['OG']=0\n",
    "inputs['omega0_hat']=0.5\n",
    "inputs['C_b']=0.8\n",
    "inputs['A_0']=0.96\n",
    "inputs['V']=np.linspace(0,10,N)\n",
    "inputs['phi_a']=np.deg2rad(3)\n",
    "\n",
    "result = inputs.apply(func=get_rolldamping, axis=1)\n",
    "result.head()"
   ],
   "metadata": {
    "collapsed": false,
    "pycharm": {
     "name": "#%%\n"
    }
   }
  },
  {
   "cell_type": "code",
   "execution_count": 49,
   "outputs": [
    {
     "data": {
      "text/plain": "<matplotlib.axes._subplots.AxesSubplot at 0x1251b6588>"
     },
     "execution_count": 49,
     "metadata": {},
     "output_type": "execute_result"
    },
    {
     "data": {
      "text/plain": "<Figure size 432x288 with 1 Axes>",
      "image/png": "[encoded data removed]"
     },
     "metadata": {
      "needs_background": "light"
     },
     "output_type": "display_data"
    }
   ],
   "source": [
    "fig,ax=plt.subplots()\n",
    "result.plot(x='V',y='B_e_hat', ax=ax)\n"
   ],
   "metadata": {
    "collapsed": false,
    "pycharm": {
     "name": "#%%\n"
    }
   }
  },
  {
   "cell_type": "code",
   "execution_count": 39,
   "outputs": [
    {
     "data": {
      "text/plain": "<matplotlib.axes._subplots.AxesSubplot at 0x12398e9e8>"
     },
     "execution_count": 39,
     "metadata": {},
     "output_type": "execute_result"
    },
    {
     "data": {
      "text/plain": "<Figure size 432x288 with 1 Axes>",
      "image/png": "[encoded data removed]"
     },
     "metadata": {
      "needs_background": "light"
     },
     "output_type": "display_data"
    }
   ],
   "source": [
    "inputs2 = inputs.copy()\n",
    "inputs2['V']=5\n",
    "inputs2['phi_a']=np.deg2rad(np.linspace(0,10,N))\n",
    "result2 = inputs2.apply(func=get_rolldamping, axis=1)\n",
    "\n",
    "fig,ax=plt.subplots()\n",
    "result2.plot(x='phi_a',y='B_e_hat', ax=ax)\n",
    "\n",
    "\n",
    "\n"
   ],
   "metadata": {
    "collapsed": false,
    "pycharm": {
     "name": "#%%\n"
    }
   }
  },
  {
   "cell_type": "markdown",
   "source": [
    "### Using POST instead\n",
    "...to request roll damping for many ships in one single request"
   ],
   "metadata": {
    "collapsed": false,
    "pycharm": {
     "name": "#%% md\n"
    }
   }
  },
  {
   "cell_type": "code",
   "execution_count": 46,
   "outputs": [],
   "source": [
    "input_list = [record for record in inputs.to_dict('records')]\n",
    "response = requests.post(url=url,\n",
    "                         json=input_list)\n",
    "\n",
    "outputs = response.json()\n",
    "outputs\n",
    "result3 = pd.DataFrame(outputs)"
   ],
   "metadata": {
    "collapsed": false,
    "pycharm": {
     "name": "#%%\n"
    }
   }
  },
  {
   "cell_type": "code",
   "execution_count": 47,
   "outputs": [
    {
     "data": {
      "text/plain": "<matplotlib.axes._subplots.AxesSubplot at 0x1238c01d0>"
     },
     "execution_count": 47,
     "metadata": {},
     "output_type": "execute_result"
    },
    {
     "data": {
      "text/plain": "<Figure size 432x288 with 1 Axes>",
      "image/png": "[encoded data removed]"
     },
     "metadata": {
      "needs_background": "light"
     },
     "output_type": "display_data"
    }
   ],
   "source": [
    "fig,ax=plt.subplots()\n",
    "result3.plot(x='V',y='B_e_hat', ax=ax)\n"
   ],
   "metadata": {
    "collapsed": false,
    "pycharm": {
     "name": "#%%\n"
    }
   }
  },
  {
   "cell_type": "code",
   "execution_count": 42,
   "outputs": [
    {
     "data": {
      "text/plain": "    A_0  BK_B  BK_L   B_e_hat  C_b  OG  T          V  beam  lpp  omega0_hat  \\\n0  0.96     0     0 -0.098773  0.8   0  2   0.000000    10  100         0.5   \n1  0.96     0     0  0.379645  0.8   0  2   1.111111    10  100         0.5   \n2  0.96     0     0  0.867903  0.8   0  2   2.222222    10  100         0.5   \n3  0.96     0     0  1.366000  0.8   0  2   3.333333    10  100         0.5   \n4  0.96     0     0  1.873936  0.8   0  2   4.444444    10  100         0.5   \n5  0.96     0     0  2.391711  0.8   0  2   5.555556    10  100         0.5   \n6  0.96     0     0  2.919324  0.8   0  2   6.666667    10  100         0.5   \n7  0.96     0     0  3.456777  0.8   0  2   7.777778    10  100         0.5   \n8  0.96     0     0  4.004069  0.8   0  2   8.888889    10  100         0.5   \n9  0.96     0     0  4.561200  0.8   0  2  10.000000    10  100         0.5   \n\n     phi_a  \n0  0.05236  \n1  0.05236  \n2  0.05236  \n3  0.05236  \n4  0.05236  \n5  0.05236  \n6  0.05236  \n7  0.05236  \n8  0.05236  \n9  0.05236  ",
      "text/html": "<div>\n<style scoped>\n    .dataframe tbody tr th:only-of-type {\n        vertical-align: middle;\n    }\n\n    .dataframe tbody tr th {\n        vertical-align: top;\n    }\n\n    .dataframe thead th {\n        text-align: right;\n    }\n</style>\n<table border=\"1\" class=\"dataframe\">\n  <thead>\n    <tr style=\"text-align: right;\">\n      <th></th>\n      <th>A_0</th>\n      <th>BK_B</th>\n      <th>BK_L</th>\n      <th>B_e_hat</th>\n      <th>C_b</th>\n      <th>OG</th>\n      <th>T</th>\n      <th>V</th>\n      <th>beam</th>\n      <th>lpp</th>\n      <th>omega0_hat</th>\n      <th>phi_a</th>\n    </tr>\n  </thead>\n  <tbody>\n    <tr>\n      <th>0</th>\n      <td>0.96</td>\n      <td>0</td>\n      <td>0</td>\n      <td>-0.098773</td>\n      <td>0.8</td>\n      <td>0</td>\n      <td>2</td>\n      <td>0.000000</td>\n      <td>10</td>\n      <td>100</td>\n      <td>0.5</td>\n      <td>0.05236</td>\n    </tr>\n    <tr>\n      <th>1</th>\n      <td>0.96</td>\n      <td>0</td>\n      <td>0</td>\n      <td>0.379645</td>\n      <td>0.8</td>\n      <td>0</td>\n      <td>2</td>\n      <td>1.111111</td>\n      <td>10</td>\n      <td>100</td>\n      <td>0.5</td>\n      <td>0.05236</td>\n    </tr>\n    <tr>\n      <th>2</th>\n      <td>0.96</td>\n      <td>0</td>\n      <td>0</td>\n      <td>0.867903</td>\n      <td>0.8</td>\n      <td>0</td>\n      <td>2</td>\n      <td>2.222222</td>\n      <td>10</td>\n      <td>100</td>\n      <td>0.5</td>\n      <td>0.05236</td>\n    </tr>\n    <tr>\n      <th>3</th>\n      <td>0.96</td>\n      <td>0</td>\n      <td>0</td>\n      <td>1.366000</td>\n      <td>0.8</td>\n      <td>0</td>\n      <td>2</td>\n      <td>3.333333</td>\n      <td>10</td>\n      <td>100</td>\n      <td>0.5</td>\n      <td>0.05236</td>\n    </tr>\n    <tr>\n      <th>4</th>\n      <td>0.96</td>\n      <td>0</td>\n      <td>0</td>\n      <td>1.873936</td>\n      <td>0.8</td>\n      <td>0</td>\n      <td>2</td>\n      <td>4.444444</td>\n      <td>10</td>\n      <td>100</td>\n      <td>0.5</td>\n      <td>0.05236</td>\n    </tr>\n    <tr>\n      <th>5</th>\n      <td>0.96</td>\n      <td>0</td>\n      <td>0</td>\n      <td>2.391711</td>\n      <td>0.8</td>\n      <td>0</td>\n      <td>2</td>\n      <td>5.555556</td>\n      <td>10</td>\n      <td>100</td>\n      <td>0.5</td>\n      <td>0.05236</td>\n    </tr>\n    <tr>\n      <th>6</th>\n      <td>0.96</td>\n      <td>0</td>\n      <td>0</td>\n      <td>2.919324</td>\n      <td>0.8</td>\n      <td>0</td>\n      <td>2</td>\n      <td>6.666667</td>\n      <td>10</td>\n      <td>100</td>\n      <td>0.5</td>\n      <td>0.05236</td>\n    </tr>\n    <tr>\n      <th>7</th>\n      <td>0.96</td>\n      <td>0</td>\n      <td>0</td>\n      <td>3.456777</td>\n      <td>0.8</td>\n      <td>0</td>\n      <td>2</td>\n      <td>7.777778</td>\n      <td>10</td>\n      <td>100</td>\n      <td>0.5</td>\n      <td>0.05236</td>\n    </tr>\n    <tr>\n      <th>8</th>\n      <td>0.96</td>\n      <td>0</td>\n      <td>0</td>\n      <td>4.004069</td>\n      <td>0.8</td>\n      <td>0</td>\n      <td>2</td>\n      <td>8.888889</td>\n      <td>10</td>\n      <td>100</td>\n      <td>0.5</td>\n      <td>0.05236</td>\n    </tr>\n    <tr>\n      <th>9</th>\n      <td>0.96</td>\n      <td>0</td>\n      <td>0</td>\n      <td>4.561200</td>\n      <td>0.8</td>\n      <td>0</td>\n      <td>2</td>\n      <td>10.000000</td>\n      <td>10</td>\n      <td>100</td>\n      <td>0.5</td>\n      <td>0.05236</td>\n    </tr>\n  </tbody>\n</table>\n</div>"
     },
     "execution_count": 42,
     "metadata": {},
     "output_type": "execute_result"
    }
   ],
   "source": [],
   "metadata": {
    "collapsed": false,
    "pycharm": {
     "name": "#%%\n"
    }
   }
  },
  {
   "cell_type": "code",
   "execution_count": null,
   "outputs": [],
   "source": [
    "\n"
   ],
   "metadata": {
    "collapsed": false,
    "pycharm": {
     "name": "#%%\n"
    }
   }
  }
 ],
 "metadata": {
  "kernelspec": {
   "display_name": "Python 3",
   "language": "python",
   "name": "python3"
  },
  "language_info": {
   "codemirror_mode": {
    "name": "ipython",
    "version": 2
   },
   "file_extension": ".py",
   "mimetype": "text/x-python",
   "name": "python",
   "nbconvert_exporter": "python",
   "pygments_lexer": "ipython2",
   "version": "2.7.6"
  }
 },
 "nbformat": 4,
 "nbformat_minor": 0
}