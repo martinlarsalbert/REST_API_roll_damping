{
 "cells": [
  {
   "cell_type": "markdown",
   "metadata": {
    "collapsed": true,
    "pycharm": {
     "name": "#%% md\n"
    }
   },
   "source": [
    "# Request Roll damping API"
   ]
  },
  {
   "cell_type": "code",
   "execution_count": 1,
   "outputs": [
    {
     "name": "stderr",
     "output_type": "stream",
     "text": [
      "UsageError: Line magic function `%matplotlib.notebook` not found.\n"
     ]
    }
   ],
   "source": [
    "%matplotlib.notebook"
   ],
   "metadata": {
    "collapsed": false,
    "pycharm": {
     "name": "#%%\n"
    }
   }
  },
  {
   "cell_type": "code",
   "execution_count": 27,
   "outputs": [],
   "source": [
    "import requests\n",
    "import numpy as np\n",
    "import pandas as pd\n",
    "import matplotlib.pyplot as plt"
   ],
   "metadata": {
    "collapsed": false,
    "pycharm": {
     "name": "#%%\n"
    }
   }
  },
  {
   "cell_type": "markdown",
   "source": [
    "## Simple request"
   ],
   "metadata": {
    "collapsed": false,
    "pycharm": {
     "name": "#%% md\n"
    }
   }
  },
  {
   "cell_type": "code",
   "execution_count": 9,
   "outputs": [],
   "source": [
    "request = r'http://marale.pythonanywhere.com/api/roll_damping?lpp=100&beam=10&T=2&BK_L=0&BK_B=0&OG=0&omega0_hat=0.1&C_b=0.7&A_0=0.97&V=10&phi_a=0.1'\n",
    "\n",
    "r = requests.get(request)\n",
    "assert r.status_code is 200\n",
    "result = r.json()"
   ],
   "metadata": {
    "collapsed": false,
    "pycharm": {
     "name": "#%%\n"
    }
   }
  },
  {
   "cell_type": "code",
   "execution_count": 10,
   "outputs": [
    {
     "data": {
      "text/plain": "{'B_e_hat': 0.001010855968957833,\n 'lpp': 100.0,\n 'method': 'static/models/polynom_complex.sym'}"
     },
     "execution_count": 10,
     "metadata": {},
     "output_type": "execute_result"
    }
   ],
   "source": [
    "result"
   ],
   "metadata": {
    "collapsed": false,
    "pycharm": {
     "name": "#%%\n"
    }
   }
  },
  {
   "cell_type": "code",
   "execution_count": 11,
   "outputs": [
    {
     "data": {
      "text/plain": "0.001010855968957833"
     },
     "execution_count": 11,
     "metadata": {},
     "output_type": "execute_result"
    }
   ],
   "source": [
    "result['B_e_hat']"
   ],
   "metadata": {
    "collapsed": false,
    "pycharm": {
     "name": "#%%\n"
    }
   }
  },
  {
   "cell_type": "code",
   "execution_count": 24,
   "outputs": [],
   "source": [
    "def get_rolldamping(row):\n",
    "    lpp=row.lpp\n",
    "    beam=row.beam\n",
    "    T=row['T']\n",
    "    BK_L=row['BK_L']\n",
    "    BK_B=row['BK_B']\n",
    "    OG=row['OG']\n",
    "    omega0_hat=row['omega0_hat']\n",
    "    C_b=row['C_b']\n",
    "    A_0=row['A_0']\n",
    "    V=row['V']\n",
    "    phi_a=row['phi_a']\n",
    "\n",
    "    request = f'http://marale.pythonanywhere.com/api/roll_damping?lpp={lpp}&beam={beam}&T={T}&BK_L={BK_L}&BK_B={BK_B}&OG={OG}&omega0_hat={omega0_hat}&C_b={C_b}&A_0={A_0}&V={V}&phi_a={phi_a}'\n",
    "\n",
    "    r = requests.get(request)\n",
    "    assert r.status_code is 200\n",
    "    result = r.json()\n",
    "    result_ = pd.Series(result, name=row.name)\n",
    "    return result_"
   ],
   "metadata": {
    "collapsed": false,
    "pycharm": {
     "name": "#%%\n"
    }
   }
  },
  {
   "cell_type": "code",
   "execution_count": 35,
   "outputs": [
    {
     "data": {
      "text/plain": "    B_e_hat    lpp                                             method\n0  0.005706  100.0  /home/marale/REST_API_roll_damping/static/mode...\n1  0.005664  100.0  /home/marale/REST_API_roll_damping/static/mode...\n2  0.005622  100.0  /home/marale/REST_API_roll_damping/static/mode...\n3  0.005582  100.0  /home/marale/REST_API_roll_damping/static/mode...\n4  0.005542  100.0  /home/marale/REST_API_roll_damping/static/mode...",
      "text/html": "<div>\n<style scoped>\n    .dataframe tbody tr th:only-of-type {\n        vertical-align: middle;\n    }\n\n    .dataframe tbody tr th {\n        vertical-align: top;\n    }\n\n    .dataframe thead th {\n        text-align: right;\n    }\n</style>\n<table border=\"1\" class=\"dataframe\">\n  <thead>\n    <tr style=\"text-align: right;\">\n      <th></th>\n      <th>B_e_hat</th>\n      <th>lpp</th>\n      <th>method</th>\n    </tr>\n  </thead>\n  <tbody>\n    <tr>\n      <th>0</th>\n      <td>0.005706</td>\n      <td>100.0</td>\n      <td>/home/marale/REST_API_roll_damping/static/mode...</td>\n    </tr>\n    <tr>\n      <th>1</th>\n      <td>0.005664</td>\n      <td>100.0</td>\n      <td>/home/marale/REST_API_roll_damping/static/mode...</td>\n    </tr>\n    <tr>\n      <th>2</th>\n      <td>0.005622</td>\n      <td>100.0</td>\n      <td>/home/marale/REST_API_roll_damping/static/mode...</td>\n    </tr>\n    <tr>\n      <th>3</th>\n      <td>0.005582</td>\n      <td>100.0</td>\n      <td>/home/marale/REST_API_roll_damping/static/mode...</td>\n    </tr>\n    <tr>\n      <th>4</th>\n      <td>0.005542</td>\n      <td>100.0</td>\n      <td>/home/marale/REST_API_roll_damping/static/mode...</td>\n    </tr>\n  </tbody>\n</table>\n</div>"
     },
     "execution_count": 35,
     "metadata": {},
     "output_type": "execute_result"
    }
   ],
   "source": [
    "N=100\n",
    "index = np.arange(0,N)\n",
    "inputs = pd.DataFrame(index=index)\n",
    "\n",
    "inputs['lpp']=100\n",
    "inputs['beam']=10\n",
    "inputs['T']=2\n",
    "inputs['BK_L']=0\n",
    "inputs['BK_B']=0\n",
    "inputs['OG']=0\n",
    "inputs['omega0_hat']=0.5\n",
    "inputs['C_b']=0.8\n",
    "inputs['A_0']=0.96\n",
    "inputs['V']=np.linspace(0,10,N)\n",
    "inputs['phi_a']=np.deg2rad(3)\n",
    "\n",
    "result = inputs.apply(func=get_rolldamping, axis=1)\n",
    "result.head()"
   ],
   "metadata": {
    "collapsed": false,
    "pycharm": {
     "name": "#%%\n"
    }
   }
  },
  {
   "cell_type": "code",
   "execution_count": 36,
   "outputs": [
    {
     "data": {
      "text/plain": "<matplotlib.axes._subplots.AxesSubplot at 0x12552d5f8>"
     },
     "execution_count": 36,
     "metadata": {},
     "output_type": "execute_result"
    },
    {
     "data": {
      "text/plain": "<Figure size 432x288 with 1 Axes>",
      "image/png": "[encoded data removed]"
     },
     "metadata": {
      "needs_background": "light"
     },
     "output_type": "display_data"
    }
   ],
   "source": [
    "fig,ax=plt.subplots()\n",
    "result.plot(y='B_e_hat', ax=ax)\n"
   ],
   "metadata": {
    "collapsed": false,
    "pycharm": {
     "name": "#%%\n"
    }
   }
  },
  {
   "cell_type": "code",
   "execution_count": null,
   "outputs": [],
   "source": [
    "\n"
   ],
   "metadata": {
    "collapsed": false,
    "pycharm": {
     "name": "#%%\n"
    }
   }
  }
 ],
 "metadata": {
  "kernelspec": {
   "display_name": "Python 3",
   "language": "python",
   "name": "python3"
  },
  "language_info": {
   "codemirror_mode": {
    "name": "ipython",
    "version": 2
   },
   "file_extension": ".py",
   "mimetype": "text/x-python",
   "name": "python",
   "nbconvert_exporter": "python",
   "pygments_lexer": "ipython2",
   "version": "2.7.6"
  }
 },
 "nbformat": 4,
 "nbformat_minor": 0
}